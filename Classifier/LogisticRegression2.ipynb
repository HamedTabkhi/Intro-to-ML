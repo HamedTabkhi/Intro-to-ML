{
  "cells": [
    {
      "cell_type": "markdown",
      "metadata": {
        "id": "view-in-github",
        "colab_type": "text"
      },
      "source": [
        "<a href=\"https://colab.research.google.com/github/HamedTabkhi/Intro-to-ML/blob/main/LogisticRegression2.ipynb\" target=\"_parent\"><img src=\"https://colab.research.google.com/assets/colab-badge.svg\" alt=\"Open In Colab\"/></a>"
      ]
    },
    {
      "cell_type": "code",
      "execution_count": 1,
      "id": "85fdc0c1-3f62-4864-ab04-5d3acb650c29",
      "metadata": {
        "id": "85fdc0c1-3f62-4864-ab04-5d3acb650c29"
      },
      "outputs": [],
      "source": [
        "import numpy as np\n",
        "import pandas as pd\n",
        "import matplotlib.pyplot as plt\n",
        "from sklearn.model_selection import KFold\n",
        "from sklearn.model_selection import cross_val_score\n",
        "from sklearn.linear_model import LogisticRegression\n",
        "from sklearn import datasets\n",
        "from sklearn.metrics import confusion_matrix\n",
        "from sklearn.metrics import classification_report\n",
        "from sklearn.model_selection import train_test_split\n",
        "from sklearn.preprocessing import StandardScaler"
      ]
    },
    {
      "cell_type": "code",
      "execution_count": 3,
      "id": "9d4eb3bb-ab49-4b59-be66-c58ce6fa9b0e",
      "metadata": {
        "id": "9d4eb3bb-ab49-4b59-be66-c58ce6fa9b0e"
      },
      "outputs": [],
      "source": [
        "# Load the iris dataset\n",
        "iris = datasets.load_iris()\n",
        "\n",
        "# Create X from the features\n",
        "X = iris.data\n",
        "\n",
        "# Create y from output\n",
        "y = iris.target"
      ]
    },
    {
      "cell_type": "code",
      "execution_count": 4,
      "id": "867be0f3-3f97-44b9-9d35-6e5d857dd2b7",
      "metadata": {
        "id": "867be0f3-3f97-44b9-9d35-6e5d857dd2b7"
      },
      "outputs": [],
      "source": [
        "X_train, X_test, y_train, y_test = train_test_split(X, y, test_size=0.3, random_state=0)"
      ]
    },
    {
      "cell_type": "code",
      "execution_count": 5,
      "id": "a1bed2b9-9503-4685-a469-e0022ea42a44",
      "metadata": {
        "id": "a1bed2b9-9503-4685-a469-e0022ea42a44"
      },
      "outputs": [],
      "source": [
        "# Create a scaler object\n",
        "sc = StandardScaler()\n",
        "\n",
        "# Fit the scaler to the training data and transform\n",
        "X_train_std = sc.fit_transform(X_train)\n",
        "\n",
        "# Apply the scaler to the test data\n",
        "X_test_std = sc.transform(X_test)"
      ]
    },
    {
      "cell_type": "code",
      "execution_count": 6,
      "id": "d321efca-ca7b-4372-a961-7bcf69430582",
      "metadata": {
        "colab": {
          "base_uri": "https://localhost:8080/"
        },
        "id": "d321efca-ca7b-4372-a961-7bcf69430582",
        "outputId": "795f36d9-3521-4057-f2c6-85fbff17eac8"
      },
      "outputs": [
        {
          "output_type": "stream",
          "name": "stdout",
          "text": [
            "C: 10\n",
            "Training accuracy: 0.6190476190476191\n",
            "Test accuracy: 0.8\n",
            "\n",
            "C: 1\n",
            "Training accuracy: 0.7714285714285715\n",
            "Test accuracy: 0.7333333333333333\n",
            "\n",
            "C: 0.1\n",
            "Training accuracy: 0.7904761904761904\n",
            "Test accuracy: 0.7333333333333333\n",
            "\n",
            "C: 0.001\n",
            "Training accuracy: 0.3238095238095238\n",
            "Test accuracy: 0.35555555555555557\n",
            "\n"
          ]
        }
      ],
      "source": [
        "C = [10, 1, .1, .001]\n",
        "\n",
        "for c in C:\n",
        "    clf = LogisticRegression(penalty='l1', C=c, solver='liblinear')\n",
        "    clf.fit(X_train, y_train)\n",
        "    print('C:', c)\n",
        "    print('Training accuracy:', clf.score(X_train_std, y_train))\n",
        "    print('Test accuracy:', clf.score(X_test_std, y_test))\n",
        "    print('')"
      ]
    },
    {
      "cell_type": "code",
      "execution_count": 7,
      "id": "41d5cc2f-8a93-4c4e-b7b4-50b6203fe52a",
      "metadata": {
        "id": "41d5cc2f-8a93-4c4e-b7b4-50b6203fe52a"
      },
      "outputs": [],
      "source": [
        "# Notice that as C decreases the model coefficients become smaller\n",
        "##(for example from 4.36276075 when C=10 to 0.0.97175097 when C=0.1), until at C=0.001 all the coefficients are zero.\n",
        "#This is the effect of the regularization penalty becoming more prominent."
      ]
    },
    {
      "cell_type": "code",
      "execution_count": 9,
      "id": "b056c88c-bc8b-40fb-9d06-2767b71bbb0a",
      "metadata": {
        "colab": {
          "base_uri": "https://localhost:8080/"
        },
        "id": "b056c88c-bc8b-40fb-9d06-2767b71bbb0a",
        "outputId": "2d12b989-7d63-4fb9-de4e-1a0ba99f6d52"
      },
      "outputs": [
        {
          "output_type": "stream",
          "name": "stdout",
          "text": [
            "Accuracy: 94.667% (2.667%)\n"
          ]
        }
      ],
      "source": [
        "model = LogisticRegression(solver='liblinear')\n",
        "results = cross_val_score(model, X, y, cv=kfold)\n",
        "# Output the accuracy. Calculate the mean and std across all folds.\n",
        "print(\"Accuracy: %.3f%% (%.3f%%)\" % (results.mean()*100.0, results.std()*100.0))"
      ]
    },
    {
      "cell_type": "code",
      "execution_count": 10,
      "id": "4d1fe0f3-a546-4a2d-a2cd-eebd38cc42c0",
      "metadata": {
        "colab": {
          "base_uri": "https://localhost:8080/"
        },
        "id": "4d1fe0f3-a546-4a2d-a2cd-eebd38cc42c0",
        "outputId": "06beac7f-1270-41e2-8698-f8597f3d3c1a"
      },
      "outputs": [
        {
          "output_type": "stream",
          "name": "stdout",
          "text": [
            "[[16  0  0]\n",
            " [ 0 14  5]\n",
            " [ 0  0 15]]\n"
          ]
        }
      ],
      "source": [
        "# Construct a confusion matrix\n",
        "test_size = 0.33\n",
        "seed = 0\n",
        "X_train, X_test, Y_train, Y_test = train_test_split(X, y, test_size=test_size,\n",
        "random_state=seed)\n",
        "model = LogisticRegression(solver='liblinear')\n",
        "model.fit(X_train, Y_train)\n",
        "predicted = model.predict(X_test)\n",
        "matrix = confusion_matrix(Y_test, predicted)\n",
        "print(matrix)"
      ]
    },
    {
      "cell_type": "code",
      "execution_count": 11,
      "id": "97822872-5c92-4349-ad46-3512fecd4aa1",
      "metadata": {
        "colab": {
          "base_uri": "https://localhost:8080/"
        },
        "id": "97822872-5c92-4349-ad46-3512fecd4aa1",
        "outputId": "7188b8a4-d95e-4f3e-ad3b-0a340899ed97"
      },
      "outputs": [
        {
          "output_type": "stream",
          "name": "stdout",
          "text": [
            "              precision    recall  f1-score   support\n",
            "\n",
            "           0       1.00      1.00      1.00        16\n",
            "           1       1.00      0.74      0.85        19\n",
            "           2       0.75      1.00      0.86        15\n",
            "\n",
            "    accuracy                           0.90        50\n",
            "   macro avg       0.92      0.91      0.90        50\n",
            "weighted avg       0.93      0.90      0.90        50\n",
            "\n"
          ]
        }
      ],
      "source": [
        "test_size = 0.33\n",
        "seed = 0\n",
        "X_train, X_test, Y_train, Y_test = train_test_split(X, y, test_size=test_size,\n",
        "random_state=seed)\n",
        "model = LogisticRegression(solver='liblinear')\n",
        "model.fit(X_train, Y_train)\n",
        "predicted = model.predict(X_test)\n",
        "report = classification_report(Y_test, predicted)\n",
        "print(report)"
      ]
    },
    {
      "cell_type": "code",
      "execution_count": 12,
      "id": "b8cff79f-1744-4e03-85f3-0796d075137e",
      "metadata": {
        "colab": {
          "base_uri": "https://localhost:8080/",
          "height": 563
        },
        "id": "b8cff79f-1744-4e03-85f3-0796d075137e",
        "outputId": "ff901a12-fe8a-4ac5-8dd0-4e0c1a40d84d"
      },
      "outputs": [
        {
          "output_type": "execute_result",
          "data": {
            "text/plain": [
              "Text(0.5, 427.9555555555555, 'Predicted label')"
            ]
          },
          "metadata": {},
          "execution_count": 12
        },
        {
          "output_type": "display_data",
          "data": {
            "text/plain": [
              "<Figure size 640x480 with 2 Axes>"
            ],
            "image/png": "[encoded data removed]"
          },
          "metadata": {}
        }
      ],
      "source": [
        "#Let's visualize the results of the model in the form of a co#nfusion matrix using matplotlib and seaborn.\n",
        "#Here, you will visualize the confusion matrix using Heatmap.\n",
        "import seaborn as sns\n",
        "from matplotlib.colors import ListedColormap\n",
        "class_names=[0,1] # name  of classes\n",
        "fig, ax = plt.subplots()\n",
        "tick_marks = np.arange(len(class_names))\n",
        "plt.xticks(tick_marks, class_names)\n",
        "plt.yticks(tick_marks, class_names)\n",
        "# create heatmap\n",
        "sns.heatmap(pd.DataFrame(matrix), annot=True, cmap=\"YlGnBu\" ,fmt='g')\n",
        "ax.xaxis.set_label_position(\"top\")\n",
        "plt.tight_layout()\n",
        "plt.title('Confusion matrix', y=1.1)\n",
        "plt.ylabel('Actual label')\n",
        "plt.xlabel('Predicted label')"
      ]
    },
    {
      "cell_type": "code",
      "execution_count": null,
      "id": "8ccefbde-59d4-4f9e-9094-959d8b9f4c36",
      "metadata": {
        "id": "8ccefbde-59d4-4f9e-9094-959d8b9f4c36"
      },
      "outputs": [],
      "source": []
    }
  ],
  "metadata": {
    "kernelspec": {
      "display_name": "Python 3 (ipykernel)",
      "language": "python",
      "name": "python3"
    },
    "language_info": {
      "codemirror_mode": {
        "name": "ipython",
        "version": 3
      },
      "file_extension": ".py",
      "mimetype": "text/x-python",
      "name": "python",
      "nbconvert_exporter": "python",
      "pygments_lexer": "ipython3",
      "version": "3.9.12"
    },
    "colab": {
      "provenance": [],
      "include_colab_link": true
    }
  },
  "nbformat": 4,
  "nbformat_minor": 5
}
